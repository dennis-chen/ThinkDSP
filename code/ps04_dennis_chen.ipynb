{
 "metadata": {
  "name": "",
  "signature": "sha256:02bee814caf30bb7aadbb0dee6154a9dfc71ab0b5e24529bb15cbae794d2ae72"
 },
 "nbformat": 3,
 "nbformat_minor": 0,
 "worksheets": [
  {
   "cells": [
    {
     "cell_type": "markdown",
     "metadata": {},
     "source": [
      "Dennis Chen"
     ]
    },
    {
     "cell_type": "code",
     "collapsed": false,
     "input": [
      "from __future__ import print_function, division\n",
      "\n",
      "import thinkdsp\n",
      "import thinkplot\n",
      "import thinkstats2\n",
      "import math\n",
      "import numpy\n",
      "\n",
      "%precision 3\n",
      "%matplotlib inline\n",
      "\n",
      "PI2 = 2 * math.pi\n",
      "i = complex(0, 1)"
     ],
     "language": "python",
     "metadata": {},
     "outputs": [],
     "prompt_number": 1
    },
    {
     "cell_type": "markdown",
     "metadata": {},
     "source": [
      "1) Please finish this exercise that we started in class: One of the examples in chap07.ipynb compares two mixtures of complex sinusoids, one with offset=0 and one with offset=1.  The result is a different looking waveform, because \"rotating\" each component by the same phase offset does not shift each component by the same amount of time.\n",
      "\n",
      "Can you construct a vector of complex amplitudes that shifts all components by the same amount of time?"
     ]
    },
    {
     "cell_type": "code",
     "collapsed": false,
     "input": [
      "amps = numpy.array([0.6, 0.25, 0.1, 0.05])\n",
      "freqs = [100, 200, 300, 400]\n",
      "framerate = 11025\n",
      "\n",
      "def synthesize1(amps, freqs, ts):\n",
      "    components = [thinkdsp.ComplexSinusoid(freq, amp)\n",
      "                  for amp, freq in zip(amps, freqs)]\n",
      "    signal = thinkdsp.SumSignal(*components)\n",
      "    ys = signal.evaluate(ts)\n",
      "    return ys\n",
      "\n",
      "def shift_by_time(amps, freqs, shift_t):\n",
      "    \"\"\"multiplies original amps by complex number to shift the wave by shift_t seconds forwards. returns new amplitudes.\"\"\"\n",
      "    phase_offset = numpy.array(freqs) * shift_t * PI2\n",
      "    complex_amps = map( lambda p : numpy.exp(p*1j), phase_offset )\n",
      "    return numpy.multiply(amps, complex_amps)\n",
      "\n",
      "ts = numpy.linspace(0, 1, framerate)\n",
      "ys = synthesize1(amps, freqs, ts)\n",
      "\n",
      "amps2 = shift_by_time(amps, freqs, shift_t = .005)\n",
      "ys2 = synthesize1(amps2, freqs, ts)\n",
      "\n",
      "n=400\n",
      "thinkplot.plot(ts[:n], ys.real[:n], label=r'$\\phi_0 = 0$')\n",
      "thinkplot.plot(ts[:n], ys2.real[:n], label=r'$\\phi_0 = 1$')\n",
      "thinkplot.config(ylim=[-1.15, 1.05])"
     ],
     "language": "python",
     "metadata": {},
     "outputs": [
      {
       "metadata": {},
       "output_type": "display_data",
       "png": "[encoded data removed]",
       "text": [
        "<matplotlib.figure.Figure at 0x7f12b9420a10>"
       ]
      }
     ],
     "prompt_number": 2
    },
    {
     "cell_type": "markdown",
     "metadata": {},
     "source": [
      "Awesome. To shift all components by the same amount of time, we will want to shift each component with a different phase offset. The phase offset to shift each component by is the frequency of that component multiplied by the time amount that we are shifting all components by. To actually shift by that phase offset, we then multiply the original amplitudes by e raised to that phase offset multiplied by 1j. This implementation can be seen in my shift_by_time() function."
     ]
    },
    {
     "cell_type": "markdown",
     "metadata": {},
     "source": [
      "2) Read the Wikipedia page on DFT.  Write an implementation of DFT based on this summation and compare your results to my implementation and/or numpy.fft.fft."
     ]
    },
    {
     "cell_type": "code",
     "collapsed": false,
     "input": [
      "def my_dft(signal):\n",
      "    N = len(signal)\n",
      "    freq_info = numpy.zeros(signal.shape, dtype=complex)\n",
      "    for k in range( len(freq_info) ):\n",
      "        for n in range( len(signal) ):\n",
      "            freq_info[k] += signal[n] * numpy.exp(-1j * PI2 * k * n / N)\n",
      "    return freq_info\n",
      "    \n",
      "test_array = numpy.array([0,1,2,3,2,1,6+1j])\n",
      "print('My dft!')\n",
      "print( my_dft( test_array ) )\n",
      "from dft import dft #allen downey's version of dft\n",
      "print('Allen Downeys dft!')\n",
      "print( dft( test_array ) )\n",
      "#and next is numpy's dft\n",
      "print('Numpys dft!')\n",
      "print( numpy.fft.fft( test_array ))"
     ],
     "language": "python",
     "metadata": {},
     "outputs": [
      {
       "output_type": "stream",
       "stream": "stdout",
       "text": [
        "My dft!\n",
        "[ 15.000+1.j     -1.590+3.124j  -2.118+5.868j  -5.983+1.075j  -5.115-2.877j\n",
        "  -0.168-6.313j  -0.026-1.877j]\n",
        "Allen Downeys dft!\n",
        "[ 15.000+1.j     -1.590+3.124j  -2.118+5.868j  -5.983+1.075j  -5.115-2.877j\n",
        "  -0.168-6.313j  -0.026-1.877j]\n",
        "Numpys dft!\n",
        "[ 15.000+1.j     -1.590+3.124j  -2.118+5.868j  -5.983+1.075j  -5.115-2.877j\n",
        "  -0.168-6.313j  -0.026-1.877j]\n"
       ]
      }
     ],
     "prompt_number": 3
    },
    {
     "cell_type": "markdown",
     "metadata": {},
     "source": [
      "Great. The output my my dft function is the same as Allen's and numpy's, which indicates that it's working correctly. It looks like my_dft works by computing the similarity (I'm not going to be more precise and say this is correlation because I'm not sure that this matches the exact definition of correlation) between the signal and complex sinusoids for sinusoids of different frequencies. This similarity encodes both amplitude and phase angle information. "
     ]
    },
    {
     "cell_type": "markdown",
     "metadata": {},
     "source": [
      "3) In Chapter 7, I showed how we can express the DFT and inverse DFT as matrix multiplications. These operations are relatively fast, taking time proportional to N2, where N is the length of the wave array. That would be fast enough for many applications, but it turns out that there is a faster algorithm, the Fast Fourier Transform (FFT), which takes time proportional to N logN.\n",
      "\n",
      "Read about the FFT at http://en.wikipedia.org/wiki/Cooley-Tukey_FFT_algorithm, and write an implementation. Hint: I suggest you write a simple version as a recursive function; don\u2019t worry about \u201cdata reordering, bit reversal, and in-place algorithms\u201d.\n",
      "\n",
      "*I got a lot of lot of help from Kyle Flores for this one"
     ]
    },
    {
     "cell_type": "code",
     "collapsed": false,
     "input": [
      "test_array = numpy.array([0,1,2,3])\n",
      "\n",
      "def is_power2(num):\n",
      "    \"\"\"this is wizardry copied from the internet\"\"\"\n",
      "    return num != 0 and ((num & (num - 1)) == 0)\n",
      "\n",
      "def ditfft2(x):\n",
      "    N = len(x)\n",
      "    assert is_power2(N)\n",
      "    if N <= 1:\n",
      "        return x\n",
      "    else:\n",
      "        twiddle_factor = numpy.empty(N, dtype = complex)\n",
      "        for k in range(N) :\n",
      "            twiddle_factor[k] = numpy.exp(-1j * PI2 * k/N)\n",
      "        X_even = ditfft2(x[::2])\n",
      "        X_odd = ditfft2(x[1::2])\n",
      "        H = numpy.empty(N, dtype = complex)\n",
      "        for k in range(N):\n",
      "            i = (k%(N/2))\n",
      "            H[k] = X_even[i] + X_odd[i] * twiddle_factor[k]\n",
      "    return H\n",
      "\n",
      "print( ditfft2(test_array) )\n",
      "print( my_dft(test_array) )"
     ],
     "language": "python",
     "metadata": {},
     "outputs": [
      {
       "output_type": "stream",
       "stream": "stdout",
       "text": [
        "[ 6. +0.000e+00j -2. +2.000e+00j -2. -4.898e-16j -2. -2.000e+00j]\n",
        "[ 6. +0.000e+00j -2. +2.000e+00j -2. -7.348e-16j -2. -2.000e+00j]\n"
       ]
      }
     ],
     "prompt_number": 4
    },
    {
     "cell_type": "markdown",
     "metadata": {},
     "source": [
      "The FFT works! I'm not entirely sure why yet because I don't have a very good understanding of what the wiki article told me. "
     ]
    },
    {
     "cell_type": "markdown",
     "metadata": {},
     "source": [
      "4) Using the timing code from PS03, compare the performance of my implementation of autocorr from Chapter 5, my fft_autocorr from Chapter 8, and numpy.correlate.  Can you tell whether NumPy is using the FFT algorithm?"
     ]
    },
    {
     "cell_type": "code",
     "collapsed": false,
     "input": [
      "def corrcoef(xs, ys):\n",
      "    return numpy.corrcoef(xs, ys, ddof=0)[0, 1]\n",
      "\n",
      "def serial_corr(wave, lag=1):\n",
      "    N = len(wave)\n",
      "    y1 = wave.ys[lag:]\n",
      "    y2 = wave.ys[:N-lag]\n",
      "    corr = corrcoef(y1, y2)\n",
      "    return corr\n",
      "\n",
      "def autocorr(wave):\n",
      "    \"\"\"Computes and plots the autocorrelation function.\n",
      "\n",
      "    wave: Wave\n",
      "    \"\"\"\n",
      "    lags = range(len(wave.ys)//2)\n",
      "    corrs = [serial_corr(wave, lag) for lag in lags]\n",
      "    return lags, corrs\n",
      "\n",
      "def zero_pad(array, n):\n",
      "    res = numpy.zeros(n)\n",
      "    res[:len(array)] = array\n",
      "    return res\n",
      "\n",
      "def fft_convolve(signal, window):\n",
      "    fft_signal = numpy.fft.fft(signal)\n",
      "    fft_window = numpy.fft.fft(window)\n",
      "    return numpy.fft.ifft(fft_signal * fft_window)\n",
      "\n",
      "def fft_autocorr(signal):\n",
      "    N = len(signal)\n",
      "    window = signal[::-1]\n",
      "    signal = zero_pad(signal, 2*N)\n",
      "    window = zero_pad(window, 2*N)\n",
      "\n",
      "    corrs = fft_convolve(signal, window)\n",
      "    corrs = corrs[N//2: 3*N//2]\n",
      "    return corrs"
     ],
     "language": "python",
     "metadata": {},
     "outputs": [],
     "prompt_number": 11
    },
    {
     "cell_type": "code",
     "collapsed": false,
     "input": [
      "signal = thinkdsp.UncorrelatedGaussianNoise()\n",
      "noise = signal.make_wave(duration=100.0)\n",
      "framerate = noise.framerate\n",
      "ns = 2 ** numpy.arange(4, 17)\n",
      "results = []\n",
      "for N in ns:\n",
      "    ys = thinkdsp.Wave(noise.ys[:N],framerate) \n",
      "    result = %timeit -o autocorr(ys)\n",
      "    results.append(result)"
     ],
     "language": "python",
     "metadata": {},
     "outputs": [
      {
       "output_type": "stream",
       "stream": "stdout",
       "text": [
        "1000 loops, best of 3: 391 \u00b5s per loop\n",
        "1000 loops, best of 3: 775 \u00b5s per loop"
       ]
      },
      {
       "output_type": "stream",
       "stream": "stdout",
       "text": [
        "\n",
        "1000 loops, best of 3: 1.64 ms per loop"
       ]
      },
      {
       "output_type": "stream",
       "stream": "stdout",
       "text": [
        "\n",
        "100 loops, best of 3: 3.2 ms per loop"
       ]
      },
      {
       "output_type": "stream",
       "stream": "stdout",
       "text": [
        "\n",
        "100 loops, best of 3: 6.56 ms per loop"
       ]
      },
      {
       "output_type": "stream",
       "stream": "stdout",
       "text": [
        "\n",
        "100 loops, best of 3: 13.6 ms per loop"
       ]
      },
      {
       "output_type": "stream",
       "stream": "stdout",
       "text": [
        "\n",
        "10 loops, best of 3: 28.9 ms per loop"
       ]
      },
      {
       "output_type": "stream",
       "stream": "stdout",
       "text": [
        "\n",
        "10 loops, best of 3: 64.2 ms per loop"
       ]
      },
      {
       "output_type": "stream",
       "stream": "stdout",
       "text": [
        "\n",
        "10 loops, best of 3: 151 ms per loop"
       ]
      },
      {
       "output_type": "stream",
       "stream": "stdout",
       "text": [
        "\n",
        "1 loops, best of 3: 380 ms per loop"
       ]
      },
      {
       "output_type": "stream",
       "stream": "stdout",
       "text": [
        "\n",
        "1 loops, best of 3: 1.03 s per loop"
       ]
      },
      {
       "output_type": "stream",
       "stream": "stdout",
       "text": [
        "\n",
        "1 loops, best of 3: 3.25 s per loop"
       ]
      },
      {
       "output_type": "stream",
       "stream": "stdout",
       "text": [
        "\n",
        "1 loops, best of 3: 11.7 s per loop"
       ]
      },
      {
       "output_type": "stream",
       "stream": "stdout",
       "text": [
        "\n"
       ]
      }
     ],
     "prompt_number": 6
    },
    {
     "cell_type": "code",
     "collapsed": false,
     "input": [
      "bests = [result.best for result in results]\n",
      "thinkplot.plot(ns, bests)\n",
      "thinkplot.config(xscale='log', yscale='log')\n",
      "x = numpy.log(ns)\n",
      "y = numpy.log(bests)\n",
      "import scipy\n",
      "t = scipy.stats.linregress(x,y)\n",
      "print(t)"
     ],
     "language": "python",
     "metadata": {},
     "outputs": [
      {
       "output_type": "stream",
       "stream": "stdout",
       "text": [
        "(1.2005963058343849, -11.550420719111237, 0.99518584177100189, 1.8920369256761328e-12, 0.035649080181093834)\n"
       ]
      },
      {
       "output_type": "stream",
       "stream": "stderr",
       "text": [
        "/home/dennis/anaconda/lib/python2.7/site-packages/matplotlib/axes/_axes.py:475: UserWarning: No labelled objects found. Use label='...' kwarg on individual plots.\n",
        "  warnings.warn(\"No labelled objects found. \"\n"
       ]
      },
      {
       "metadata": {},
       "output_type": "display_data",
       "png": "[encoded data removed]",
       "text": [
        "<matplotlib.figure.Figure at 0x7f12b9420110>"
       ]
      }
     ],
     "prompt_number": 7
    },
    {
     "cell_type": "markdown",
     "metadata": {},
     "source": [
      "Chapter 5 autocorr: It is hard to see the autocorr O(n^2) behavior because it takes so long to run, but here in the graph we can see the slope slowly increasing on the log run time vs log sample num scale, probably towards 2. I think we can safely conclude autocorr has O(n^2), particularly since looking at the code for it shows us that there's a double for loop. "
     ]
    },
    {
     "cell_type": "code",
     "collapsed": false,
     "input": [
      "signal = thinkdsp.UncorrelatedGaussianNoise()\n",
      "noise = signal.make_wave(duration=100.0)\n",
      "framerate = noise.framerate\n",
      "ns = 2 ** numpy.arange(4, 17)\n",
      "results = []\n",
      "for N in ns:\n",
      "    ys = noise.ys[:N]\n",
      "    result = %timeit -o fft_autocorr(ys)\n",
      "    results.append(result)\n",
      "bests = [result.best for result in results]\n",
      "thinkplot.plot(ns, bests)\n",
      "thinkplot.config(xscale='log', yscale='log')\n",
      "x = numpy.log(ns)\n",
      "y = numpy.log(bests)\n",
      "import scipy\n",
      "t = scipy.stats.linregress(x,y)\n",
      "print(t)"
     ],
     "language": "python",
     "metadata": {},
     "outputs": [
      {
       "output_type": "stream",
       "stream": "stdout",
       "text": [
        "10000 loops, best of 3: 27.7 \u00b5s per loop\n",
        "10000 loops, best of 3: 30.2 \u00b5s per loop"
       ]
      },
      {
       "output_type": "stream",
       "stream": "stdout",
       "text": [
        "\n",
        "10000 loops, best of 3: 33.8 \u00b5s per loop"
       ]
      },
      {
       "output_type": "stream",
       "stream": "stdout",
       "text": [
        "\n",
        "10000 loops, best of 3: 39.8 \u00b5s per loop"
       ]
      },
      {
       "output_type": "stream",
       "stream": "stdout",
       "text": [
        "\n",
        "10000 loops, best of 3: 55.3 \u00b5s per loop"
       ]
      },
      {
       "output_type": "stream",
       "stream": "stdout",
       "text": [
        "\n",
        "10000 loops, best of 3: 85.1 \u00b5s per loop"
       ]
      },
      {
       "output_type": "stream",
       "stream": "stdout",
       "text": [
        "\n",
        "10000 loops, best of 3: 151 \u00b5s per loop"
       ]
      },
      {
       "output_type": "stream",
       "stream": "stdout",
       "text": [
        "\n",
        "1000 loops, best of 3: 284 \u00b5s per loop"
       ]
      },
      {
       "output_type": "stream",
       "stream": "stdout",
       "text": [
        "\n",
        "1000 loops, best of 3: 595 \u00b5s per loop"
       ]
      },
      {
       "output_type": "stream",
       "stream": "stdout",
       "text": [
        "\n",
        "1000 loops, best of 3: 1.32 ms per loop"
       ]
      },
      {
       "output_type": "stream",
       "stream": "stdout",
       "text": [
        "\n",
        "100 loops, best of 3: 2.9 ms per loop"
       ]
      },
      {
       "output_type": "stream",
       "stream": "stdout",
       "text": [
        "\n",
        "100 loops, best of 3: 7.53 ms per loop"
       ]
      },
      {
       "output_type": "stream",
       "stream": "stdout",
       "text": [
        "\n",
        "100 loops, best of 3: 19.2 ms per loop"
       ]
      },
      {
       "output_type": "stream",
       "stream": "stdout",
       "text": [
        "\n",
        "(0.80162249622381487, -13.726441163949156, 0.9662229862743007, 8.0604049057885362e-08, 0.064464882951810534)\n"
       ]
      },
      {
       "metadata": {},
       "output_type": "display_data",
       "png": "[encoded data removed]",
       "text": [
        "<matplotlib.figure.Figure at 0x7f12b9288990>"
       ]
      }
     ],
     "prompt_number": 12
    },
    {
     "cell_type": "markdown",
     "metadata": {},
     "source": [
      "fft_autocorr: fft_autocorr looks to be exhibiting the O(nlogn) behavior we expected, since the line is not straight on the logtime vs logsamples graph.  "
     ]
    },
    {
     "cell_type": "code",
     "collapsed": false,
     "input": [
      "signal = thinkdsp.UncorrelatedGaussianNoise()\n",
      "noise = signal.make_wave(duration=100.0)\n",
      "framerate = noise.framerate\n",
      "ns = 2 ** numpy.arange(4, 17)\n",
      "results = []\n",
      "for N in ns:\n",
      "    ys = noise.ys[:N]\n",
      "    result = %timeit -o numpy.correlate(ys,ys)\n",
      "    results.append(result)\n",
      "bests = [result.best for result in results]\n",
      "thinkplot.plot(ns, bests)\n",
      "thinkplot.config(xscale='log', yscale='log')\n",
      "x = numpy.log(ns)\n",
      "y = numpy.log(bests)\n",
      "import scipy\n",
      "t = scipy.stats.linregress(x,y)\n",
      "print(t)"
     ],
     "language": "python",
     "metadata": {},
     "outputs": [
      {
       "output_type": "stream",
       "stream": "stdout",
       "text": [
        "1000000 loops, best of 3: 1.75 \u00b5s per loop\n",
        "1000000 loops, best of 3: 1.79 \u00b5s per loop"
       ]
      },
      {
       "output_type": "stream",
       "stream": "stdout",
       "text": [
        "\n",
        "1000000 loops, best of 3: 1.81 \u00b5s per loop"
       ]
      },
      {
       "output_type": "stream",
       "stream": "stdout",
       "text": [
        "\n",
        "1000000 loops, best of 3: 1.84 \u00b5s per loop"
       ]
      },
      {
       "output_type": "stream",
       "stream": "stdout",
       "text": [
        "\n",
        "1000000 loops, best of 3: 1.82 \u00b5s per loop"
       ]
      },
      {
       "output_type": "stream",
       "stream": "stdout",
       "text": [
        "\n",
        "1000000 loops, best of 3: 1.94 \u00b5s per loop"
       ]
      },
      {
       "output_type": "stream",
       "stream": "stdout",
       "text": [
        "\n",
        "100000 loops, best of 3: 2.07 \u00b5s per loop"
       ]
      },
      {
       "output_type": "stream",
       "stream": "stdout",
       "text": [
        "\n",
        "100000 loops, best of 3: 2.49 \u00b5s per loop"
       ]
      },
      {
       "output_type": "stream",
       "stream": "stdout",
       "text": [
        "\n",
        "100000 loops, best of 3: 3.27 \u00b5s per loop"
       ]
      },
      {
       "output_type": "stream",
       "stream": "stdout",
       "text": [
        "\n",
        "100000 loops, best of 3: 4.72 \u00b5s per loop"
       ]
      },
      {
       "output_type": "stream",
       "stream": "stdout",
       "text": [
        "\n",
        "100000 loops, best of 3: 7.71 \u00b5s per loop"
       ]
      },
      {
       "output_type": "stream",
       "stream": "stdout",
       "text": [
        "\n",
        "100000 loops, best of 3: 13.9 \u00b5s per loop"
       ]
      },
      {
       "output_type": "stream",
       "stream": "stdout",
       "text": [
        "\n",
        "10000 loops, best of 3: 25.2 \u00b5s per loop"
       ]
      },
      {
       "output_type": "stream",
       "stream": "stdout",
       "text": [
        "\n",
        "(0.28797744610033565, -14.590146087521498, 0.87559524124296473, 8.7749776647346318e-05, 0.047901244695484881)\n"
       ]
      },
      {
       "metadata": {},
       "output_type": "display_data",
       "png": "[encoded data removed]",
       "text": [
        "<matplotlib.figure.Figure at 0x7f12b8c03a90>"
       ]
      }
     ],
     "prompt_number": 14
    },
    {
     "cell_type": "markdown",
     "metadata": {},
     "source": [
      "Numpy is hella fast, so it is most likely using the FFT algorithm, which has O(nlogn). I'm pretty comfortable assuming that this being faster than Allen's slow autocorr means that numpy does autocorr using FFT!"
     ]
    }
   ],
   "metadata": {}
  }
 ]
}