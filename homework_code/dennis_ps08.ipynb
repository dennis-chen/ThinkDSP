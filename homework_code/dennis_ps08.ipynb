{
 "metadata": {
  "name": "",
  "signature": "sha256:67cf3d87284453a3f9297d7fe93aaf688cf0ed3fb0f933e8ee3c5b2782044f08"
 },
 "nbformat": 3,
 "nbformat_minor": 0,
 "worksheets": [
  {
   "cells": [
    {
     "cell_type": "code",
     "collapsed": false,
     "input": [
      "import numpy as np\n",
      "import matplotlib.pyplot as plt\n",
      "import cmath"
     ],
     "language": "python",
     "metadata": {},
     "outputs": [],
     "prompt_number": 16
    },
    {
     "cell_type": "code",
     "collapsed": false,
     "input": [
      "L = 10e-2\n",
      "R = 400\n",
      "C = 10e-7\n",
      "w = np.linspace(0,5000,num=3000)\n",
      "H = (1 - w**2*L*C)/((1 - w**2*L*C)**2 + w**2*R**2*C**2) - w*R*C/((1 - w**2*L*C)**2 + w**2*R**2*C**2)*1j\n",
      "amp = abs(H)\n",
      "phase = map(lambda h:cmath.phase(h), H)\n",
      "plt.subplot(2, 1, 1)\n",
      "plt.loglog(w,amp)\n",
      "plt.ylabel('Amplitude', fontsize = 18)\n",
      "plt.title('R = 50 Ohms', fontsize = 18)\n",
      "plt.subplot(2, 1, 2)\n",
      "plt.semilogx(w,phase)\n",
      "plt.ylabel('Phase', fontsize = 18)\n",
      "plt.xlabel('Frequency (w)', fontsize = 18)\n",
      "plt.show()"
     ],
     "language": "python",
     "metadata": {},
     "outputs": [],
     "prompt_number": 25
    }
   ],
   "metadata": {}
  }
 ]
}