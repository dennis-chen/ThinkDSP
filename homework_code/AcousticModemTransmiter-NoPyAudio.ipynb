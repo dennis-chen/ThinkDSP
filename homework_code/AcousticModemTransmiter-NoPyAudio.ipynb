{
 "metadata": {
  "name": "",
  "signature": "sha256:83dc20409ced2331476fbaed2aa13caeb61a488afd05b9af7aaab40d21967879"
 },
 "nbformat": 3,
 "nbformat_minor": 0,
 "worksheets": [
  {
   "cells": [
    {
     "cell_type": "code",
     "collapsed": false,
     "input": [
      "from scipy.io import wavfile\n",
      "import numpy as np\n",
      "import matplotlib.pyplot as mplib\n",
      "import thinkdsp\n",
      "from array import array\n",
      "\n",
      "\n",
      "# This function converts a string into a numpy array of bits\n",
      "# note that it is assumed that each character is 7 bits long here\n",
      "def string2NPArray(s):\n",
      "    bits = np.array([])\n",
      "    for a in bytearray(s, 'ascii'):\n",
      "        for b in range(0,7):\n",
      "            bits = np.append(bits,float((a>>(7-b-1))&1))\n",
      "    return bits\n",
      "\n",
      "# This function converts a numpy array of bits to a string\n",
      "# note that it is assumed that each character is 7 bits long here\n",
      "def NPbits2String(bits):\n",
      "    S = \"\"\n",
      "    for a in np.arange(0, np.ceil(len(bits)/7)):\n",
      "        tmp = 0\n",
      "        for k in np.arange(0,7):\n",
      "            b = bits[a*7+k]\n",
      "            tmp = tmp + (2**(6-k))*b\n",
      "        S = S + chr(int(tmp))\n",
      "    return S\n",
      "\n",
      "# this function is used to help convert numpy array data into a format\n",
      "# suitable for writing into a wave file\n",
      "def convert_to_int16(sig):\n",
      "    # convert into int16  to write as wave\n",
      "    sig = (sig/np.max(sig))*(2**14)\n",
      "    sig = sig.astype('int16')\n",
      "    return sig\n",
      "    \n",
      "\n",
      "# this is a utility function that  finds the start and  end \n",
      "# of transmission in the numpy array of samples xf\n",
      "# The function looks for the first instance where the entries of xf\n",
      "# go above threshold and returns the index into xf where this happens\n",
      "# in start_idx\n",
      "# The function looks for the last instance where the entries of xf\n",
      "# are above threshold and returns the index into xf where this happens\n",
      "# in end_idx\n",
      "# \n",
      "# You will probably have to do some trial and error to get the threshold right\n",
      "# one possibility is to se the threshold equal to some factor of the maximum value\n",
      "# in the input signal,  e.g. 0.3 * maximum value in xf\n",
      "#\n",
      "def find_start_and_end(xf, threshold = 2000): \n",
      "    import numpy as np    \n",
      "    start_idx = -1\n",
      " \n",
      "    for k in range(0, len(xf)):\n",
      "        if(np.abs(xf[k])) > threshold:\n",
      "            start_idx = k\n",
      "            break\n",
      "\n",
      "    if(start_idx  < 0):\n",
      "        print \"Unable to detect start of transmission\"\n",
      "        return -1\n",
      "    \n",
      "    end_idx = -1\n",
      "    \n",
      "    for k in range(0, len(xf)):\n",
      "        if(np.abs(xf[len(xf)-k-1])) > threshold:\n",
      "            end_idx = len(xf)-k-1\n",
      "            break\n",
      "\n",
      "    if(end_idx < 0):\n",
      "        print \"Unable to detect end of transmission\"\n",
      "        return -1\n",
      "\n",
      "    return start_idx, end_idx\n",
      "\n",
      "    "
     ],
     "language": "python",
     "metadata": {},
     "outputs": [],
     "prompt_number": 1
    },
    {
     "cell_type": "markdown",
     "metadata": {},
     "source": [
      "bpsk is a module that is provided as python bytecode. bpsk.help() provides the syntax and definitions of the parameters of the functions that are included in the bpsk module"
     ]
    },
    {
     "cell_type": "code",
     "collapsed": false,
     "input": [
      "import bpsk\n",
      "\n",
      "bpsk.help()"
     ],
     "language": "python",
     "metadata": {},
     "outputs": [
      {
       "output_type": "stream",
       "stream": "stdout",
       "text": [
        "This module provides:\n",
        "\n",
        "     generate_bpsk_signal(bits, rate=8000, symbol_len = 250, freq = 1000):\n",
        "         Returns a numpy array which is a BPSK encoding of bits\n",
        "         1 symbol worth of zeros are added at the beginning and the end to aid detection of transmission start\n",
        "         A 1 bit is added to the beginning to help with synchronization\n",
        "         bits -  a numpy array of 1s and 0s\n",
        "         rate - sample rate used\n",
        "         symbol_len - length in samples of the rectangular pulse used to encode the bits\n",
        "         freq - carrier frequency in Hz\n",
        "\n",
        "     decode_bpsk_signal(x, freq=1000, rate = 8000, symbol_len = 250, detection_threshold_factor = 0.3, LPFbw = 320):\n",
        "         Decodes a received BPSK signal in vector x and produces a numpyarray of bits \n",
        "         The function uses a brute-force approach to carrier phase synchronization by checking 16 evenly spaced\n",
        "         phase offsets between -pi and pi to find the one which results in the strongest demodulated signal\n",
        "         which is then used as the demodulated signal\n",
        "         The first bit is assumed to be a control bit that always equals 1. This bit is not returned in the final output\n",
        "         x - a numpy array of the received audio samples\n",
        "         freq - carrier frequency \n",
        "         rate - sample rate used \n",
        "         symbol_len - length in samples of the rectangular pulse\n",
        "         detection_threshold_factor - this is used for detecting the start and end of transmission\n",
        "                                      the start of transmission is the first sample that exceeds\n",
        "                                      detection_threshold_factor times the maximum value in x\n",
        "                                      the end of transmission is the last sample that exceeds\n",
        "                                      detection_threshold_factor times the maximum value in x\n",
        "         LPFbw - this is the bandwidth in rad/sec of the low-pass filter that is used after\n",
        "                 multiplying with a cosine\n"
       ]
      }
     ],
     "prompt_number": 2
    },
    {
     "cell_type": "markdown",
     "metadata": {},
     "source": [
      "The following cell generates a bpsk signal and plays it through the sound card\n",
      "Your job will be to make your own function that generates the transmitted signal, i.e. your own version of bpsk.generate_bpsk_signal. Run bpsk.help() to learn about what  bpsk.generate_bpsk_signal does. At a minimum, you should be able to transmit a 5 character word from one computer to another over the air."
     ]
    },
    {
     "cell_type": "code",
     "collapsed": false,
     "input": [
      "from new_bpsk import generate_bpsk_signal\n",
      "\n",
      "# convert a text string to a numpy array of 1s and 0s\n",
      "bits = string2NPArray(\"Autist\")\n",
      "\n",
      "# generate a BPSK signal with 8820 samples per second, and 250 sample long symbols, and carrier frequency of 1kHz\n",
      "x,cos = generate_bpsk_signal(bits, rate = 8820, symbol_len = 250, freq = 1000)\n",
      "rate = 8820\n",
      "# plot the signal to visualize\n",
      "# first make a vector to represent the sampling times\n",
      "# the times range from t = 0 up to the length of the data samples times the sampling period\n",
      "ts = np.arange(0, len(x)/float(rate), 1/float(rate))\n",
      "# plot the signal in the time domain\n",
      "# you should zoom in to see the BPSK signal\n",
      "mplib.plot(ts, x)\n",
      "mplib.show()\n",
      "\n",
      "# write the wave file for the first signal which is assumed\n",
      "# to  be in stored in the numpy array x\n",
      "wavfile.write('AcousticModemTx.wav', 8820, convert_to_int16(x))"
     ],
     "language": "python",
     "metadata": {},
     "outputs": [],
     "prompt_number": 5
    },
    {
     "cell_type": "code",
     "collapsed": false,
     "input": [
      "# use thinkdsp tools to play the wave file with the BPSK signal\n",
      "wave = thinkdsp.read_wave('AcousticModemTx.wav')\n",
      "wave.normalize()\n",
      "wave.make_audio()\n"
     ],
     "language": "python",
     "metadata": {},
     "outputs": [
      {
       "html": [
        "\n",
        "                <audio controls=\"controls\" >\n",
        "                    <source src=\"data:audio/wav;base64,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\" type=\"audio/wav\" />\n",
        "                    Your browser does not support the audio element.\n",
        "                </audio>\n",
        "              "
       ],
       "metadata": {},
       "output_type": "pyout",
       "prompt_number": 6,
       "text": [
        "<IPython.lib.display.Audio at 0x7f850c57ce50>"
       ]
      }
     ],
     "prompt_number": 6
    },
    {
     "cell_type": "code",
     "collapsed": false,
     "input": [],
     "language": "python",
     "metadata": {},
     "outputs": []
    }
   ],
   "metadata": {}
  }
 ]
}